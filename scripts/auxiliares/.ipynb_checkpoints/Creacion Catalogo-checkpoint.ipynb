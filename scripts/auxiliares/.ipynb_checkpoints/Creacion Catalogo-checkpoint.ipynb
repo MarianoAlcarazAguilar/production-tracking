{
 "cells": [
  {
   "cell_type": "markdown",
   "id": "a2b632dd",
   "metadata": {},
   "source": [
    "# Creacion catalogo"
   ]
  },
  {
   "cell_type": "code",
   "execution_count": 1,
   "id": "7295dcbe",
   "metadata": {},
   "outputs": [],
   "source": [
    "import pandas as pd"
   ]
  },
  {
   "cell_type": "code",
   "execution_count": 9,
   "id": "6d4b6eb9",
   "metadata": {},
   "outputs": [],
   "source": [
    "catalogo = pd.read_excel('../../data/catalogo_productos.xlsx').rename(columns={'Sku':'sku', 'Familia':'familia', 'Marca':'marca', 'Descripción':'descripcion'})\n",
    "datos = pd.read_parquet('../../data/data_for_qlik.parquet')"
   ]
  },
  {
   "cell_type": "code",
   "execution_count": 40,
   "id": "65e2d2ae",
   "metadata": {},
   "outputs": [],
   "source": [
    "def limpia_cadena(cadena:str):\n",
    "    if cadena is None:\n",
    "        return 'SIN DESCRIPCION'\n",
    "    cadena = cadena.replace(',', ' ')\n",
    "    cadena = cadena.strip()\n",
    "    return cadena"
   ]
  },
  {
   "cell_type": "code",
   "execution_count": 49,
   "id": "82b6ae49",
   "metadata": {},
   "outputs": [],
   "source": [
    "def selecciona_descripcion(lista_descripciones:list):\n",
    "    '''\n",
    "    Esta función recibe una lista con todas las descripciones\n",
    "    que tiene un producto dado y elige la mejor (la más corta)\n",
    "    Si en alguna hay una descripción del tipo \"SIN DESCRIPCION\"\n",
    "    se omite en caso de que haya otras\n",
    "    '''\n",
    "    if len(lista_descripciones) == 1:\n",
    "        return lista_descripciones[0]\n",
    "    if \"SIN DESCRIPCION\" in lista_descripciones:\n",
    "        lista_descripciones.remove(\"SIN DESCRIPCION\")\n",
    "    return min(lista_descripciones, key=len)"
   ]
  },
  {
   "cell_type": "code",
   "execution_count": 78,
   "id": "fd807bd2",
   "metadata": {},
   "outputs": [],
   "source": [
    "catalogo_actualizado = (datos\n",
    " [['sku', 'descripcion']]\n",
    " .merge(catalogo, on='sku', how='outer')\n",
    " .fillna(value={'familia':'EXTERNO', 'marca':'BAYER'})\n",
    " .assign(descripcion=lambda df: df.descripcion_y.fillna(df.descripcion_x).apply(limpia_cadena))\n",
    " .drop(['descripcion_x', 'descripcion_y'], axis=1)\n",
    " # Vamos a agrupar para cada sku, contar cuántas descripciones distintas hay\n",
    " .drop_duplicates()\n",
    " .groupby(['sku', 'familia', 'marca'])\n",
    " .agg(descripciones=pd.NamedAgg('descripcion', set))\n",
    " .assign(descripcion=lambda x: x.descripciones.apply(list).apply(selecciona_descripcion))\n",
    " .drop(['descripciones'], axis=1)\n",
    " .reset_index()\n",
    ")"
   ]
  },
  {
   "cell_type": "code",
   "execution_count": 80,
   "id": "5a8aa620",
   "metadata": {},
   "outputs": [],
   "source": [
    "catalogo_actualizado.to_parquet('../../data/static/catalogo_productos.parquet', index=False)"
   ]
  },
  {
   "cell_type": "code",
   "execution_count": null,
   "id": "795ab3a8",
   "metadata": {},
   "outputs": [],
   "source": []
  }
 ],
 "metadata": {
  "kernelspec": {
   "display_name": "Python 3 (ipykernel)",
   "language": "python",
   "name": "python3"
  },
  "language_info": {
   "codemirror_mode": {
    "name": "ipython",
    "version": 3
   },
   "file_extension": ".py",
   "mimetype": "text/x-python",
   "name": "python",
   "nbconvert_exporter": "python",
   "pygments_lexer": "ipython3",
   "version": "3.10.9"
  }
 },
 "nbformat": 4,
 "nbformat_minor": 5
}
