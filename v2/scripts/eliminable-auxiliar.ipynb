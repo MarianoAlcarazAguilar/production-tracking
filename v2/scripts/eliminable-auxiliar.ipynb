{
 "cells": [
  {
   "cell_type": "code",
   "execution_count": 13,
   "id": "741c9a96-b6ca-4080-9d2e-0f308324aa9b",
   "metadata": {
    "tags": []
   },
   "outputs": [],
   "source": [
    "import pandas as pd\n",
    "import numpy as np"
   ]
  },
  {
   "cell_type": "code",
   "execution_count": 2,
   "id": "14162b04-509c-4495-9255-42a3ffc568e5",
   "metadata": {
    "tags": []
   },
   "outputs": [],
   "source": [
    "datos = pd.read_parquet('../data/datos_produccion.parquet')"
   ]
  },
  {
   "cell_type": "code",
   "execution_count": 18,
   "id": "5bd5d13f-63ed-4010-ad4f-4b5896f2be12",
   "metadata": {
    "tags": []
   },
   "outputs": [
    {
     "data": {
      "text/plain": [
       "['COADYUVANTE',\n",
       " 'ESPECIALIDADES',\n",
       " 'FUNGICIDA',\n",
       " 'HERBICIDA',\n",
       " 'INSECTICIDA',\n",
       " 'PRODUCTO TECNICO']"
      ]
     },
     "execution_count": 18,
     "metadata": {},
     "output_type": "execute_result"
    }
   ],
   "source": [
    "sorted(list(datos.familia.unique()))"
   ]
  },
  {
   "cell_type": "code",
   "execution_count": 23,
   "id": "aa7af28f-0b70-4e66-99ee-1a6d1f5db38a",
   "metadata": {
    "tags": []
   },
   "outputs": [
    {
     "data": {
      "text/plain": [
       "0.375"
      ]
     },
     "execution_count": 23,
     "metadata": {},
     "output_type": "execute_result"
    }
   ],
   "source": [
    "# vamos a sacar el porcentaje de productos termiandos\n",
    "familia = 'HERBICIDA'\n",
    "(\n",
    "    datos\n",
    "    .query('familia == @familia')\n",
    "    .assign(terminado=lambda x: (x.fabricado >= x.programado).astype(int))\n",
    "    .terminado.mean()\n",
    ")"
   ]
  },
  {
   "cell_type": "code",
   "execution_count": 69,
   "id": "ee816605-1d94-4751-8031-dde40a373514",
   "metadata": {
    "tags": []
   },
   "outputs": [
    {
     "data": {
      "text/plain": [
       "{'H209': {'fabricado': 1000.0, 'programado': 1000.0, 'cumplimiento': 100.0}}"
      ]
     },
     "execution_count": 69,
     "metadata": {},
     "output_type": "execute_result"
    }
   ],
   "source": [
    "# vamos a encontrar el mejor producto\n",
    "familia = 'HERBICIDA'\n",
    "filtered_data = datos.query('familia == @familia')\n",
    "min_fecha = filtered_data.fecha.min()\n",
    "max_fecha = filtered_data.fecha.max()\n",
    "aux = filtered_data.query('@min_fecha <= fecha <= @max_fecha')\n",
    "\n",
    "(\n",
    "    aux\n",
    "    .groupby('sku')\n",
    "    .agg(\n",
    "        fabricado=pd.NamedAgg('fabricado', 'sum'),\n",
    "        programado=pd.NamedAgg('programado', 'sum')\n",
    "    )\n",
    "    .assign(cumplimiento=lambda x: round(x.fabricado / x.programado*100, 2))\n",
    "    .sort_values('cumplimiento', ascending=False)\n",
    "    .dropna()\n",
    "    .head(1).T.to_dict()\n",
    ")"
   ]
  },
  {
   "cell_type": "code",
   "execution_count": null,
   "id": "4a860cda-be07-4f9e-b37e-6ddadf7565de",
   "metadata": {},
   "outputs": [],
   "source": []
  }
 ],
 "metadata": {
  "kernelspec": {
   "display_name": "Python 3 (ipykernel)",
   "language": "python",
   "name": "python3"
  },
  "language_info": {
   "codemirror_mode": {
    "name": "ipython",
    "version": 3
   },
   "file_extension": ".py",
   "mimetype": "text/x-python",
   "name": "python",
   "nbconvert_exporter": "python",
   "pygments_lexer": "ipython3",
   "version": "3.11.4"
  }
 },
 "nbformat": 4,
 "nbformat_minor": 5
}
