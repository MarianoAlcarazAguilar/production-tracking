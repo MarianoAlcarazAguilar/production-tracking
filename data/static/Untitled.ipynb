{
 "cells": [
  {
   "cell_type": "code",
   "execution_count": 1,
   "id": "d430ca1e",
   "metadata": {},
   "outputs": [],
   "source": [
    "import pandas as pd"
   ]
  },
  {
   "cell_type": "code",
   "execution_count": 2,
   "id": "798d21cd",
   "metadata": {},
   "outputs": [],
   "source": [
    "datos = pd.read_parquet('./catalogo_productos.parquet')"
   ]
  },
  {
   "cell_type": "code",
   "execution_count": 4,
   "id": "c437793a",
   "metadata": {},
   "outputs": [
    {
     "data": {
      "text/html": [
       "<div>\n",
       "<style scoped>\n",
       "    .dataframe tbody tr th:only-of-type {\n",
       "        vertical-align: middle;\n",
       "    }\n",
       "\n",
       "    .dataframe tbody tr th {\n",
       "        vertical-align: top;\n",
       "    }\n",
       "\n",
       "    .dataframe thead th {\n",
       "        text-align: right;\n",
       "    }\n",
       "</style>\n",
       "<table border=\"1\" class=\"dataframe\">\n",
       "  <thead>\n",
       "    <tr style=\"text-align: right;\">\n",
       "      <th></th>\n",
       "      <th>sku</th>\n",
       "      <th>familia</th>\n",
       "      <th>marca</th>\n",
       "      <th>descripcion</th>\n",
       "    </tr>\n",
       "  </thead>\n",
       "  <tbody>\n",
       "    <tr>\n",
       "      <th>0</th>\n",
       "      <td>10328</td>\n",
       "      <td>EXTERNO</td>\n",
       "      <td>BAYER</td>\n",
       "      <td>MALAT 1000CE 15X950 ML</td>\n",
       "    </tr>\n",
       "    <tr>\n",
       "      <th>1</th>\n",
       "      <td>10481571</td>\n",
       "      <td>EXTERNO</td>\n",
       "      <td>BAYER</td>\n",
       "      <td>HARN MX 45X12X1 LT</td>\n",
       "    </tr>\n",
       "    <tr>\n",
       "      <th>2</th>\n",
       "      <td>10481573</td>\n",
       "      <td>EXTERNO</td>\n",
       "      <td>BAYER</td>\n",
       "      <td>SIN DESCRIPCION</td>\n",
       "    </tr>\n",
       "    <tr>\n",
       "      <th>3</th>\n",
       "      <td>10595873</td>\n",
       "      <td>EXTERNO</td>\n",
       "      <td>BAYER</td>\n",
       "      <td>FAENA CLASICO MX 45X12X1 LT</td>\n",
       "    </tr>\n",
       "    <tr>\n",
       "      <th>4</th>\n",
       "      <td>10595875</td>\n",
       "      <td>EXTERNO</td>\n",
       "      <td>BAYER</td>\n",
       "      <td>FAENA CLASICO MX 30X2X10 LT</td>\n",
       "    </tr>\n",
       "  </tbody>\n",
       "</table>\n",
       "</div>"
      ],
      "text/plain": [
       "        sku  familia  marca                  descripcion\n",
       "0     10328  EXTERNO  BAYER       MALAT 1000CE 15X950 ML\n",
       "1  10481571  EXTERNO  BAYER           HARN MX 45X12X1 LT\n",
       "2  10481573  EXTERNO  BAYER              SIN DESCRIPCION\n",
       "3  10595873  EXTERNO  BAYER  FAENA CLASICO MX 45X12X1 LT\n",
       "4  10595875  EXTERNO  BAYER  FAENA CLASICO MX 30X2X10 LT"
      ]
     },
     "execution_count": 4,
     "metadata": {},
     "output_type": "execute_result"
    }
   ],
   "source": [
    "datos.head()"
   ]
  },
  {
   "cell_type": "code",
   "execution_count": null,
   "id": "543a141b",
   "metadata": {},
   "outputs": [],
   "source": []
  }
 ],
 "metadata": {
  "kernelspec": {
   "display_name": "Python 3 (ipykernel)",
   "language": "python",
   "name": "python3"
  },
  "language_info": {
   "codemirror_mode": {
    "name": "ipython",
    "version": 3
   },
   "file_extension": ".py",
   "mimetype": "text/x-python",
   "name": "python",
   "nbconvert_exporter": "python",
   "pygments_lexer": "ipython3",
   "version": "3.10.9"
  }
 },
 "nbformat": 4,
 "nbformat_minor": 5
}
